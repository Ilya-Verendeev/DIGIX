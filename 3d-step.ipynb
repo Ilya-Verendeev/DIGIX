{
 "cells": [
  {
   "cell_type": "code",
   "execution_count": 2,
   "metadata": {},
   "outputs": [],
   "source": [
    "import numpy as np\n",
    "import pandas as pd\n",
    "import torch\n",
    "import torchvision\n",
    "from PIL import Image\n",
    "import matplotlib.pyplot as plt\n",
    "from sklearn.neighbors import NearestNeighbors\n",
    "from matplotlib.pyplot import imshow\n",
    "\n",
    "%matplotlib inline\n",
    "\n",
    "#!pip install efficientnet_pytorch\n",
    "\n",
    "import joblib\n",
    "from efficientnet_pytorch import EfficientNet"
   ]
  },
  {
   "cell_type": "code",
   "execution_count": null,
   "metadata": {},
   "outputs": [],
   "source": [
    "ball_tree_dump_file = 'library_ball_tree.sav'\n",
    "lib_files_dump_file = 'library_files_list.sav'\n",
    "CNN_MODEL_WEIGHTS = Path('/kaggle/input/...')\n",
    "QUERY_DIR = Path('/kaggle/input/...')"
   ]
  },
  {
   "cell_type": "code",
   "execution_count": null,
   "metadata": {},
   "outputs": [],
   "source": [
    "knn_model = joblib.load(ball_tree_dump_file)\n",
    "\n",
    "cnn_model = EfficientNet.from_name('efficientnet-b1')\n",
    "cnn_model.load_state_dict(torch.load(CNN_MODEL_WEIGHTS))\n",
    "cnn_model.eval()\n",
    "\n",
    "lib_files = joblib.load(ball_tree_dump_file)"
   ]
  },
  {
   "cell_type": "code",
   "execution_count": null,
   "metadata": {},
   "outputs": [],
   "source": [
    "#prepare model"
   ]
  },
  {
   "cell_type": "code",
   "execution_count": null,
   "metadata": {},
   "outputs": [],
   "source": [
    "def query_processing(knn_model, cnn_model, query_path, lib_files, n_results=10):\n",
    "    image = Image.open(query_path)\n",
    "    image.load()\n",
    "    \n",
    "    if (len(image.mode) < 2):\n",
    "        image = transforms.Grayscale(3)(image)\n",
    "    transforms.functional.adjust_saturation(img=image,saturation_factor=1.25)\n",
    "    transforms.functional.adjust_gamma(img=image, gamma=0.25)\n",
    "    \n",
    "    image_transform = transforms.Compose([\n",
    "            transforms.Resize(RESCALE_SIZE),\n",
    "            transforms.CenterCrop(RESCALE_SIZE),\n",
    "            transforms.ToTensor(),\n",
    "            transforms.Normalize([0.485, 0.456, 0.406], [0.229, 0.224, 0.225])\n",
    "        ])\n",
    "    image = image_transform(image)\n",
    "    image.to(DEVICE)\n",
    "    \n",
    "    feature_vector = cnn_model(image).cpu()\n",
    "    nearest_nbrs = knn_model(feature_vector, k=10, return_distance=False)\n",
    "    \n",
    "    result = list()\n",
    "    for i in nearest_nbrs:\n",
    "        result.append(lib_files[i])\n",
    "    \n",
    "    return result"
   ]
  },
  {
   "cell_type": "code",
   "execution_count": null,
   "metadata": {},
   "outputs": [],
   "source": [
    "query_files = sorted(list(QUERY_DIR.rglob('*.jpg'))\n",
    "prepare_model(cnn_model)\n",
    "query_results = list()\n",
    "                     \n",
    "for query_file in query_files:\n",
    "    result = query_processing(knn_model, cnn_model, query_file, lib_files)\n",
    "    query_results.append(result)"
   ]
  },
  {
   "cell_type": "code",
   "execution_count": null,
   "metadata": {},
   "outputs": [],
   "source": [
    "def vector_method3(model, vector_features, X_test, N_QUERY_RESULT=10):\n",
    "    \n",
    "    '''new_data - X_test without forward. Data goes through model and becomes a new vector\n",
    "       which we compare with elements in vector_features'''\n",
    "    \n",
    "    new_data = model(X_test)\n",
    "    new_data_np = np.array(new_data)\n",
    "    \n",
    "    vector_features_np = np.array([np.array(vector) for vector in vector_features])\n",
    "    \n",
    "    if vector_features_np.ndim == 1:\n",
    "        vector_features_np = vector_features[:, np.newaxis]\n",
    "      \n",
    "    nbrs = NearestNeighbors(n_neighbors=N_QUERY_RESULT, metric=\"cosine\").fit(vector_features)\n",
    "    \n",
    "    kneighbors = []\n",
    "    for data in new_data_np:\n",
    "        \n",
    "        data = data[np.newaxis, :]\n",
    "        \n",
    "        distances, indices = nbrs.kneighbors(data)\n",
    "        similar_image_indices = indices.reshape(-1)\n",
    "        kneighbors.append(vector_features[similar_image_indices])\n",
    "    \n",
    "    return kneighbors"
   ]
  },
  {
   "cell_type": "code",
   "execution_count": null,
   "metadata": {},
   "outputs": [],
   "source": [
    "query_dataframe = pd.DataFrame(query_files)\n",
    "results_dataframe = pd.DataFrame(query_results)\n",
    "result_df = pd.concat([query_dataframe,results_dataframe]).to_csv()"
   ]
  },
  {
   "cell_type": "code",
   "execution_count": null,
   "metadata": {},
   "outputs": [],
   "source": [
    "def random_query_show(query_files, query_results):\n",
    "    rand_idx = int(np.random.uniform(0,len(query_results)))\n",
    "    print(\"Query image:\")\n",
    "    pil_im = Image.open(query_files[rand_idx], 'r')\n",
    "    imshow(np.asarray(pil_im))\n",
    "    print(\"Query result:\")\n",
    "    for img in query_results[rand_idx]:\n",
    "        pil_im = Image.open(query_files[rand_idx], 'r')\n",
    "        imshow(np.asarray(pil_im))"
   ]
  },
  {
   "cell_type": "code",
   "execution_count": null,
   "metadata": {},
   "outputs": [],
   "source": [
    "random_query_show(query_files, query_results)"
   ]
  }
 ],
 "metadata": {
  "kernelspec": {
   "display_name": "Python 3",
   "language": "python",
   "name": "python3"
  },
  "language_info": {
   "codemirror_mode": {
    "name": "ipython",
    "version": 3
   },
   "file_extension": ".py",
   "mimetype": "text/x-python",
   "name": "python",
   "nbconvert_exporter": "python",
   "pygments_lexer": "ipython3",
   "version": "3.8.3"
  }
 },
 "nbformat": 4,
 "nbformat_minor": 4
}
